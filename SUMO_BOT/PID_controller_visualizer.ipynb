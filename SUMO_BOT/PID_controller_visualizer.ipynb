{
  "nbformat": 4,
  "nbformat_minor": 0,
  "metadata": {
    "colab": {
      "name": "PID_controller_visualizer.ipynb",
      "provenance": [],
      "collapsed_sections": []
    },
    "kernelspec": {
      "name": "python3",
      "display_name": "Python 3"
    }
  },
  "cells": [
    {
      "cell_type": "markdown",
      "metadata": {
        "id": "1v83SuH2aHNO"
      },
      "source": [
        "# PID Controller Visualizer\n",
        "Basic PID implementation in Python to demonstrate how the P, I, and D individually affect the performance of the controller.\n",
        "<br/>\n",
        "<br/>\n",
        "Author: Morgan Visnesky \n",
        "<br/>\n",
        "Date: 01-01-2021"
      ]
    },
    {
      "cell_type": "code",
      "metadata": {
        "id": "LbMBhMFflc4K"
      },
      "source": [
        "# PID CLASS\r\n",
        "\r\n",
        "class PID:\r\n",
        "\r\n",
        "  # Constructor\r\n",
        "  def __init__(self, p, i, d, timeArray, goal):\r\n",
        "    self.Kp = p \r\n",
        "    self.Ki = i \r\n",
        "    self.Kd = d \r\n",
        "    self.currentTime = 0\r\n",
        "    self.previousTime = 0\r\n",
        "    self.position = 0\r\n",
        "    self.totalError = 0\r\n",
        "    self.lastError = 0\r\n",
        "    self.GOAL = goal\r\n",
        "    self.timeSteps = len(timeArray)\r\n",
        "    self.timeVals = timeArray # time values in seconds\r\n",
        "    self.PIDvals = [] # holds values from PID \r\n",
        "    self.constVal = [] # holds constant value that PID is attempting to reach \r\n",
        "\r\n",
        "  # Compute's PID calculation\r\n",
        "  def computePID(self, iteration):\r\n",
        "\r\n",
        "      self.constVal.append(self.GOAL)\r\n",
        "\r\n",
        "      self.currentTime = self.timeVals[iteration]*10\r\n",
        "      if iteration != 0:\r\n",
        "        self.previousTime = self.timeVals[iteration-1]*10\r\n",
        "      else:\r\n",
        "        self.previousTime = 0\r\n",
        "      elapsedTime = (self.currentTime - self.previousTime)\r\n",
        "\r\n",
        "      error = self.GOAL - self.position\r\n",
        "      self.totalError += error * elapsedTime\r\n",
        "\r\n",
        "      if elapsedTime != 0:\r\n",
        "        derivError = (error-self.lastError) // elapsedTime\r\n",
        "      else:\r\n",
        "        derivError = 0\r\n",
        "\r\n",
        "      posError = (self.Kp * error) + (self.Ki * self.totalError) + (self.Kd * derivError) # PID equation\r\n",
        "      self.lastError = error\r\n",
        "      self.position = self.position + posError\r\n",
        "      self.PIDvals.append(self.position) # appends the calculated PID value for this time step to the array\r\n",
        "      self.previousTime = self.currentTime\r\n",
        "    \r\n",
        "      x = iteration\r\n",
        "      y = self.position\r\n",
        "      return ((x,y))"
      ],
      "execution_count": null,
      "outputs": []
    },
    {
      "cell_type": "markdown",
      "metadata": {
        "id": "2FY76y8XncrZ"
      },
      "source": [
        "# Test Plot"
      ]
    },
    {
      "cell_type": "code",
      "metadata": {
        "id": "K4MQo5ST51yf"
      },
      "source": [
        "import matplotlib\n",
        "import matplotlib.pyplot as plt\n",
        "import numpy as np\n",
        "\n",
        "GOAL = 20 # constant value the controller will try and navigate to.\n",
        "time_steps = 2000\n",
        "t = np.arange(0, time_steps, 1) # time values in seconds\n",
        "\n",
        "Kp = 0.202 # Proportional component of PID\n",
        "Ki = 0.00015 # Integral component of PID\n",
        "Kd = 0.207 # Derivitive component of PID\n",
        "PID = PID(Kp, Ki, Kd, t, GOAL)\n",
        "\n",
        "\n",
        "\n",
        "# For loop fills PIDvals array with PID controller values that correspond to each time\n",
        "# step in the t array.\n",
        "for i in range(time_steps):\n",
        "  PID.computePID(i)\n",
        "  \n",
        "fig, ax = plt.subplots()\n",
        "figure = matplotlib.pyplot.gcf() # gcf() = get current feature\n",
        "figure.set_size_inches(16.5, 8.5) # resizes plot\n",
        "\n",
        "ax.plot(t, PID.constVal, c='b',linewidth=6) # plots constant values\n",
        "ax.plot(t, PID.PIDvals,c='r', linewidth=1) # plots PID values\n",
        "\n",
        "# Sets labels for plot\n",
        "ax.set(xlabel='Time (s)', ylabel='Speed (m/s)', title='PID Controller Visualization')\n",
        "\n",
        "ax.grid() # Adds grid lines to plot\n",
        "plt.rcParams.update({'font.size': 30}) # Changes font size of plot labels\n",
        "\n",
        "#fig.savefig(\"PID_test.png\") \n",
        "plt.show() # Displays plot"
      ],
      "execution_count": null,
      "outputs": []
    },
    {
      "cell_type": "markdown",
      "metadata": {
        "id": "J8LU8z2FYodL"
      },
      "source": [
        "# PID Animation"
      ]
    },
    {
      "cell_type": "code",
      "metadata": {
        "id": "_ss96Gl8eod1"
      },
      "source": [
        "import matplotlib.pyplot as plt\r\n",
        "import numpy as np\r\n",
        "import matplotlib\r\n",
        "from matplotlib import animation, rc\r\n",
        "from IPython.display import HTML\r\n",
        "\r\n",
        "# First set up the figure, the axis, and the plot element we want to animate\r\n",
        "fig, ax = plt.subplots()\r\n",
        "figure = matplotlib.pyplot.gcf() # gcf() = get current feature\r\n",
        "figure.set_size_inches(16.5, 4.5) # resizes plot\r\n",
        "plt.close()\r\n",
        "\r\n",
        "ax.t = np.arange(0, time_steps, 1)\r\n",
        "ax.set_xlim(( 0, 2000))\r\n",
        "ax.set_ylim((0, 30))\r\n",
        "\r\n",
        "line, = ax.plot([], [], 'o')\r\n",
        "line2, = ax.plot([], [], lw=2) \r\n",
        "PID = PID(0.202, 0.00015, 0.807, ax.t, 20)\r\n",
        "\r\n",
        "# initialization function: plot the background of each frame\r\n",
        "def init():\r\n",
        "    line.set_data([], []) \r\n",
        "    line2.set_data(ax.t, np.full(2000,20))\r\n",
        "    return (line2,)\r\n",
        "\r\n",
        "# animation function. This is called sequentially  \r\n",
        "def animate(i):\r\n",
        "    vals = PID.computePID(i)\r\n",
        "    line.set_data(vals[0], vals[1])\r\n",
        "    return (line,)\r\n",
        "\r\n",
        "ax.set(xlabel='Time (s)', ylabel='Speed (m/s)', title='PID Controller Visualization')\r\n",
        "anim = animation.FuncAnimation(fig, animate, init_func=init, frames=250, interval=100, blit=True)\r\n",
        "\r\n",
        "# Note: below is the part which makes it work on Colab\r\n",
        "rc('animation', html='jshtml')\r\n",
        "anim"
      ],
      "execution_count": null,
      "outputs": []
    }
  ]
}